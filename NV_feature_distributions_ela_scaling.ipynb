{
 "cells": [
  {
   "cell_type": "code",
   "execution_count": 2,
   "id": "3c623dcf-6f5e-4d75-805d-b1dcf56ea228",
   "metadata": {},
   "outputs": [],
   "source": [
    "import numpy as np\n",
    "import math\n",
    "import matplotlib.pyplot as plt\n",
    "import os\n",
    "from sklearn.preprocessing import MinMaxScaler, StandardScaler\n",
    "from tqdm import tqdm\n",
    "from N_plotting_utils import *\n",
    "from N_ranking_utils import *\n",
    "from sklearn.metrics.pairwise import *\n",
    "import sklearn\n",
    "import scipy\n",
    "from sklearn.decomposition import PCA"
   ]
  },
  {
   "cell_type": "code",
   "execution_count": 3,
   "id": "411931b7-c20d-44d2-aab9-9a0d23ee8634",
   "metadata": {},
   "outputs": [],
   "source": [
    "def feature_values_boxplot(all_features, features_to_use, features_to_plot=None,ax=None): \n",
    "    features_preprocessed=pd.DataFrame()\n",
    "    for f in features_to_use:\n",
    "        feat=all_features[f]\n",
    "        #feat=feat.query('benchmark in [\"bbob\",\"random\"]')\n",
    "        to_plot,_=preprocess_ela(feat.drop(columns=['benchmark']),[])\n",
    "        to_plot_scaled=pd.DataFrame(MinMaxScaler().fit_transform(to_plot), columns=to_plot.columns, index=to_plot.index)\n",
    "        if features_to_plot is not None:\n",
    "            to_plot_scaled=to_plot_scaled[features_to_plot]\n",
    "        to_plot_scaled['benchmark']=[benchmark_name_mapping(b) for b in feat['benchmark'].values]\n",
    "        t=to_plot_scaled.reset_index().melt(['f','benchmark'], var_name='feature name', value_name='scaled feature value')\n",
    "        t['features']=f\n",
    "        features_preprocessed=pd.concat([features_preprocessed, t])\n",
    "        \n",
    "    \n",
    "    ax=sns.catplot(features_preprocessed, y='feature name',x='scaled feature value',hue='benchmark',ax=ax,palette=color_palette_4, col='features',kind='box',aspect=0.5,height=20)\n",
    "    #ax.set_xticklabels(ax.get_xticklabels(), rotation=90)\n",
    "    #parallel_coordinates(to_plot_scaled.sample(200),class_column='benchmark',color=color_palette_4)"
   ]
  },
  {
   "cell_type": "code",
   "execution_count": 4,
   "id": "1e4acadb-7484-4fc3-a5c1-307a277c8b5a",
   "metadata": {},
   "outputs": [
    {
     "name": "stdout",
     "output_type": "stream",
     "text": [
      "20337\n",
      "20337\n"
     ]
    }
   ],
   "source": [
    "dimension=3\n",
    "all_features={f'50d_sy' :get_features(dimension,1000000,feature_dir=f,sample_count_dimension_factor=50,scaled=True,drop_constant=False)[1] for f in ['ela_features'] }\n",
    "all_features.update({f'50d' :get_features(dimension,1000000,feature_dir=f,sample_count_dimension_factor=50,scaled=False,drop_constant=False)[1] for f in ['ela_features'] })\n"
   ]
  },
  {
   "cell_type": "code",
   "execution_count": 5,
   "id": "c935abd4-50e1-425a-a204-7d4dbfd87659",
   "metadata": {},
   "outputs": [
    {
     "data": {
      "text/plain": [
       "dict_keys(['50d_sy', '50d'])"
      ]
     },
     "execution_count": 5,
     "metadata": {},
     "output_type": "execute_result"
    }
   ],
   "source": [
    "all_features.keys()"
   ]
  },
  {
   "cell_type": "code",
   "execution_count": 6,
   "id": "2604b7b5-4c14-45b6-a8e2-75b9e4f11771",
   "metadata": {},
   "outputs": [],
   "source": [
    "def plot_2d(feature_df,save_file=None):\n",
    "    fs_to_use=list(filter(lambda x: \"costs_runtime\" not in x and \"costs_fun_evals\" not in x, feature_df.columns))\n",
    "    feature_df=feature_df[fs_to_use].sort_values('benchmark')\n",
    "    plt.figure(figsize=(10,10))\n",
    "    \n",
    "    #feature_df_scaled=MinMaxScaler().fit_transform(feature_df.drop(columns=['benchmark']))\n",
    "    f2d = TSNE(2).fit_transform(feature_df.drop(columns=['benchmark']))\n",
    "    f2d=pd.DataFrame(f2d, index=feature_df.index,columns=['x','y'])\n",
    "    f2d['benchmark']=feature_df['benchmark'].apply(lambda x: x.upper() if x!='m4' else 'ZIGZAG')\n",
    "    \n",
    "    #palette={'AFFINE':'#00ff84', 'BBOB':\"black\", 'ZIGZAG':color_palette_4[2], 'RANDOM':color_palette_4[3]}\n",
    "        \n",
    "    ax=sns.scatterplot(f2d,hue='benchmark',x='x',y='y',alpha=0.4, style='benchmark')\n",
    "    ax.set(xticklabels=[])\n",
    "    ax.set(yticklabels=[])\n",
    "    \n",
    "    plt.tight_layout()\n",
    "    plt.savefig(f'new_data/figures_results_ela_scaling/2d_plot/{save_file}.pdf')\n",
    "    plt.show()"
   ]
  },
  {
   "cell_type": "code",
   "execution_count": 7,
   "id": "824bac4e-4199-4d79-b5a4-6f3dce4e7d13",
   "metadata": {},
   "outputs": [],
   "source": [
    "def plot_cosine(feature_df,save_file=None):\n",
    "    fs_to_use=list(filter(lambda x: \"costs_runtime\" not in x and \"costs_fun_evals\" not in x, feature_df.columns))\n",
    "    feature_df=feature_df[fs_to_use].sort_values('benchmark')\n",
    "    plt.figure(figsize=(10,10))\n",
    "    feature_df_scaled=MinMaxScaler().fit_transform(feature_df.drop(columns=['benchmark']))\n",
    "    \n",
    "    cs=cosine_similarity(feature_df_scaled,feature_df_scaled )\n",
    "    cs=pd.DataFrame(cs, index=feature_df['benchmark'], columns=feature_df['benchmark'])\n",
    "\n",
    "    ax=sns.heatmap(cs)\n",
    "    ax.set(xticklabels=[])\n",
    "    ax.set(yticklabels=[])\n",
    "    \n",
    "    plt.tight_layout()\n",
    "    plt.savefig(f'new_data/figures_results_ela_scaling/sim_plot/{save_file}.pdf')\n",
    "    plt.show()"
   ]
  },
  {
   "cell_type": "code",
   "execution_count": 8,
   "id": "c2bfebaf-1287-4050-a675-e25475fecdbc",
   "metadata": {},
   "outputs": [],
   "source": [
    "def plot_features(all_features,plotting_function):\n",
    "    all_feature_names=all_features['50d'].drop(columns=['benchmark']).columns\n",
    "    feature_groups=list(set([cc.split('.')[0] for cc in all_feature_names]))\n",
    "    print('ALL')\n",
    "    plotting_function(all_features['50d'],f'dim_{dimension}_all')\n",
    "    plotting_function(all_features['50d_sy'],f'dim_{dimension}_all_sy')\n",
    "    for feature_group in feature_groups:\n",
    "        for c in ['50d','50d_sy']:\n",
    "            print(feature_group)\n",
    "            features_from_group=list(filter(lambda x: x.startswith(feature_group+'.'), all_feature_names))+['benchmark']\n",
    "            plotting_function(all_features[c][features_from_group],f'dim_{dimension}_{c}_{feature_group}')"
   ]
  },
  {
   "cell_type": "code",
   "execution_count": null,
   "id": "b9df3ce9-dd50-40a9-9d24-39f1e5da9006",
   "metadata": {},
   "outputs": [
    {
     "name": "stdout",
     "output_type": "stream",
     "text": [
      "ALL\n"
     ]
    },
    {
     "name": "stderr",
     "output_type": "stream",
     "text": [
      "/opt/conda/envs/Base/lib/python3.9/site-packages/sklearn/manifold/_t_sne.py:106: RuntimeWarning: overflow encountered in cast\n",
      "  distances_data = distances_data.astype(np.float32, copy=False)\n"
     ]
    }
   ],
   "source": [
    "plot_features(all_features, plot_2d)"
   ]
  },
  {
   "cell_type": "code",
   "execution_count": null,
   "id": "72cab41f-dd96-41ee-8de6-b79c723a1811",
   "metadata": {},
   "outputs": [],
   "source": []
  }
 ],
 "metadata": {
  "kernelspec": {
   "display_name": "Base",
   "language": "python",
   "name": "base"
  },
  "language_info": {
   "codemirror_mode": {
    "name": "ipython",
    "version": 3
   },
   "file_extension": ".py",
   "mimetype": "text/x-python",
   "name": "python",
   "nbconvert_exporter": "python",
   "pygments_lexer": "ipython3",
   "version": "3.9.18"
  }
 },
 "nbformat": 4,
 "nbformat_minor": 5
}
